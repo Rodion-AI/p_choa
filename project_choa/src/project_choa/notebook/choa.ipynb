{
 "cells": [
  {
   "cell_type": "markdown",
   "metadata": {},
   "source": [
    "# задача\n",
    "создание нейро-финансиста в торговой компании.\n",
    "\n",
    "В его обязанности входит:\n",
    "1. Заполнение журнала операции.\n",
    "2. Уточнение по непольным данным.\n",
    "3. Подготовка и написание аналитических записок."
   ]
  },
  {
   "cell_type": "markdown",
   "metadata": {
    "id": "CzOWnDxG4Kk_"
   },
   "source": [
    "# подготовка окружения"
   ]
  },
  {
   "cell_type": "code",
   "execution_count": null,
   "metadata": {
    "executionInfo": {
     "elapsed": 11473,
     "status": "ok",
     "timestamp": 1752297850812,
     "user": {
      "displayName": "Rodion",
      "userId": "09749979587702946372"
     },
     "user_tz": -420
    },
    "id": "XTCMMBlD4OV3"
   },
   "outputs": [],
   "source": [
    "# # загружаем модули\n",
    "# !pip install -q langchain-community langchain-openai faiss-cpu"
   ]
  },
  {
   "cell_type": "code",
   "execution_count": null,
   "metadata": {
    "executionInfo": {
     "elapsed": 961,
     "status": "ok",
     "timestamp": 1752297851780,
     "user": {
      "displayName": "Rodion",
      "userId": "09749979587702946372"
     },
     "user_tz": -420
    },
    "id": "FZHb91COKMYn"
   },
   "outputs": [],
   "source": [
    "# импортируем библиотеки\n",
    "import requests\n",
    "import os\n",
    "import re\n",
    "import time\n",
    "import pandas as pd\n",
    "import ast\n",
    "\n",
    "from dotenv import load_dotenv\n",
    "# from google.colab import userdata\n",
    "from openai import OpenAI\n",
    "from langchain_openai import OpenAIEmbeddings\n",
    "from langchain_text_splitters import MarkdownHeaderTextSplitter\n",
    "from langchain_community.vectorstores import FAISS\n",
    "from langchain.docstore.document import Document\n",
    "\n",
    "# # активируем ключ api от open ai\n",
    "# os.environ['OPENAI_API_KEY'] = userdata.get('open_ai_key_lessons')\n",
    "load_dotenv('.env')"
   ]
  },
  {
   "cell_type": "markdown",
   "metadata": {
    "id": "nWjUEdH44OtW"
   },
   "source": [
    "# база данных"
   ]
  },
  {
   "cell_type": "markdown",
   "metadata": {
    "id": "eufEqxo7Y9cd"
   },
   "source": [
    "## db"
   ]
  },
  {
   "cell_type": "code",
   "execution_count": null,
   "metadata": {
    "executionInfo": {
     "elapsed": 7,
     "status": "ok",
     "timestamp": 1752297851782,
     "user": {
      "displayName": "Rodion",
      "userId": "09749979587702946372"
     },
     "user_tz": -420
    },
    "id": "DJ9hkYDtcHY7"
   },
   "outputs": [],
   "source": [
    "# функция для загрузки базы данных\n",
    "def load_document_text(url: str) -> str:\n",
    "    #\n",
    "    match_ = re.search('/document/d/([a-zA-Z0-9-_]+)', url)\n",
    "    if match_ is None:\n",
    "        raise ValueError('invalid google docs url')\n",
    "    doc_id = match_.group(1)\n",
    "\n",
    "    #\n",
    "    response = requests.get(f'https://docs.google.com/document/d/{doc_id}/export?format=txt')\n",
    "    response.raise_for_status()\n",
    "    text = response.text\n",
    "\n",
    "    return text"
   ]
  },
  {
   "cell_type": "code",
   "execution_count": null,
   "metadata": {
    "colab": {
     "base_uri": "https://localhost:8080/"
    },
    "executionInfo": {
     "elapsed": 1171,
     "status": "ok",
     "timestamp": 1752297852958,
     "user": {
      "displayName": "Rodion",
      "userId": "09749979587702946372"
     },
     "user_tz": -420
    },
    "id": "NJQR_aPH3NSt",
    "outputId": "dffc9e1a-873a-4986-a252-3ca0812be79d"
   },
   "outputs": [],
   "source": [
    "# выводим загруженный текст db_v4\n",
    "database = load_document_text('https://docs.google.com/document/d/1l76Ly7zW4ve4hRBrSuGJaJeLwqk2G8N9OFQYKtcPDtU/edit?usp=sharing')\n",
    "print(database[:1000])"
   ]
  },
  {
   "cell_type": "code",
   "execution_count": null,
   "metadata": {
    "executionInfo": {
     "elapsed": 2,
     "status": "ok",
     "timestamp": 1752297852963,
     "user": {
      "displayName": "Rodion",
      "userId": "09749979587702946372"
     },
     "user_tz": -420
    },
    "id": "0Gs2e1nUvYLF"
   },
   "outputs": [],
   "source": [
    "# преобразовывем текст базы данных в формат markdown\n",
    "def text_to_markdown(text: str) -> str:\n",
    "    def second_level(text):\n",
    "        # ищем загаловки второго уровня и заменяем значения\n",
    "        return re.sub(\n",
    "            r'^(\\d+\\.\\d+)\\.\\s+(.+)',\n",
    "            r'## \\1. \\2\\n\\1. \\2',\n",
    "            text,\n",
    "            flags=re.MULTILINE\n",
    "        )\n",
    "\n",
    "    def first_level(text):\n",
    "        # ищем загаловки первого уровня и заменяем значения\n",
    "        return re.sub(\n",
    "            r'^(\\d+)\\.\\s+(.+)',\n",
    "            r'# \\1. \\2',\n",
    "            text,\n",
    "            flags=re.MULTILINE\n",
    "        )\n",
    "\n",
    "    # Порядок важен: сначала вложенные, потом основные\n",
    "    text = second_level(text)\n",
    "    text = first_level(text)\n",
    "    return text\n"
   ]
  },
  {
   "cell_type": "code",
   "execution_count": null,
   "metadata": {
    "colab": {
     "base_uri": "https://localhost:8080/"
    },
    "collapsed": true,
    "executionInfo": {
     "elapsed": 7,
     "status": "ok",
     "timestamp": 1752297852972,
     "user": {
      "displayName": "Rodion",
      "userId": "09749979587702946372"
     },
     "user_tz": -420
    },
    "id": "B2xtMkMojQtR",
    "outputId": "a6be22b6-42d3-428c-b24a-de28597c3b8d"
   },
   "outputs": [],
   "source": [
    "markdown = text_to_markdown(database)\n",
    "print(markdown[:1000])"
   ]
  },
  {
   "cell_type": "code",
   "execution_count": null,
   "metadata": {
    "executionInfo": {
     "elapsed": 4,
     "status": "ok",
     "timestamp": 1752297852978,
     "user": {
      "displayName": "Rodion",
      "userId": "09749979587702946372"
     },
     "user_tz": -420
    },
    "id": "P9zFwDGqebmY"
   },
   "outputs": [],
   "source": [
    "# фунция разделитель для markdown разметки\n",
    "def split_text(text: str) -> str:\n",
    "    headers_to_split = [\n",
    "        ('#', 'Header 1'),\n",
    "        ('##', 'Header 2')\n",
    "    ]\n",
    "\n",
    "    # определяем сплиттер\n",
    "    markdown_splitter = MarkdownHeaderTextSplitter(headers_to_split_on=headers_to_split)\n",
    "    database_md = markdown_splitter.split_text(text)\n",
    "\n",
    "    # возвращаем получнное значение\n",
    "    return database_md\n"
   ]
  },
  {
   "cell_type": "code",
   "execution_count": null,
   "metadata": {
    "colab": {
     "base_uri": "https://localhost:8080/"
    },
    "executionInfo": {
     "elapsed": 13,
     "status": "ok",
     "timestamp": 1752297852993,
     "user": {
      "displayName": "Rodion",
      "userId": "09749979587702946372"
     },
     "user_tz": -420
    },
    "id": "wzVHjTHzFj0u",
    "outputId": "e6ec9100-1bac-4cda-d9f9-2260b19ebbe2"
   },
   "outputs": [],
   "source": [
    "split_text(markdown[:1000])"
   ]
  },
  {
   "cell_type": "code",
   "execution_count": null,
   "metadata": {
    "colab": {
     "base_uri": "https://localhost:8080/"
    },
    "executionInfo": {
     "elapsed": 8,
     "status": "ok",
     "timestamp": 1752297853002,
     "user": {
      "displayName": "Rodion",
      "userId": "09749979587702946372"
     },
     "user_tz": -420
    },
    "id": "1XE6bQVsK5uk",
    "outputId": "84ac7c8c-b7fe-4e31-9c51-52e5fb343790"
   },
   "outputs": [],
   "source": [
    "# создаем переменную список чанков\n",
    "source_chunks = []\n",
    "\n",
    "# добавляем отрывки документов в список\n",
    "source_chunks = split_text(markdown)\n",
    "source_chunks[:3]"
   ]
  },
  {
   "cell_type": "code",
   "execution_count": null,
   "metadata": {
    "colab": {
     "base_uri": "https://localhost:8080/"
    },
    "executionInfo": {
     "elapsed": 32,
     "status": "ok",
     "timestamp": 1752297853036,
     "user": {
      "displayName": "Rodion",
      "userId": "09749979587702946372"
     },
     "user_tz": -420
    },
    "id": "BTeRV5PgDBk7",
    "outputId": "b71d4633-7ccf-4557-8be2-650e2a9174c6"
   },
   "outputs": [],
   "source": [
    "# убираем пустые чанки и выводим итоговое кол-во\n",
    "len(source_chunks)"
   ]
  },
  {
   "cell_type": "code",
   "execution_count": null,
   "metadata": {
    "executionInfo": {
     "elapsed": 3333,
     "status": "ok",
     "timestamp": 1752297856368,
     "user": {
      "displayName": "Rodion",
      "userId": "09749979587702946372"
     },
     "user_tz": -420
    },
    "id": "oQ_IWdyIA4Ly"
   },
   "outputs": [],
   "source": [
    "# определяем эмбеддинги, помещаем их в векторное хранилище и инициализируем клиента\n",
    "embeddings = OpenAIEmbeddings()\n",
    "\n",
    "db = FAISS.from_documents(source_chunks, embeddings)\n",
    "\n",
    "client = OpenAI()"
   ]
  },
  {
   "cell_type": "code",
   "execution_count": null,
   "metadata": {
    "executionInfo": {
     "elapsed": 12,
     "status": "ok",
     "timestamp": 1752297856382,
     "user": {
      "displayName": "Rodion",
      "userId": "09749979587702946372"
     },
     "user_tz": -420
    },
    "id": "LM7U9Npp8k1v"
   },
   "outputs": [],
   "source": [
    "# Определяем путь для сохранения в локальном хранилище\n",
    "folder_path = 'content/'\n",
    "\n",
    "# Имя файла для сохранения\n",
    "index_name = 'db'\n",
    "\n",
    "# Сохраняем db_from_texts в локальное хранилище\n",
    "db.save_local(folder_path=folder_path, index_name=index_name)"
   ]
  },
  {
   "cell_type": "markdown",
   "metadata": {
    "id": "x2jOmt85ZCah"
   },
   "source": [
    "## df"
   ]
  },
  {
   "cell_type": "code",
   "execution_count": null,
   "metadata": {
    "executionInfo": {
     "elapsed": 8,
     "status": "ok",
     "timestamp": 1752297856393,
     "user": {
      "displayName": "Rodion",
      "userId": "09749979587702946372"
     },
     "user_tz": -420
    },
    "id": "3WEOGw7U16RF"
   },
   "outputs": [],
   "source": [
    "#\n",
    "path_download = 'https://drive.google.com/uc?export=download&id='"
   ]
  },
  {
   "cell_type": "code",
   "execution_count": null,
   "metadata": {
    "colab": {
     "base_uri": "https://localhost:8080/",
     "height": 424
    },
    "executionInfo": {
     "elapsed": 18483,
     "status": "ok",
     "timestamp": 1752297874880,
     "user": {
      "displayName": "Rodion",
      "userId": "09749979587702946372"
     },
     "user_tz": -420
    },
    "id": "VjEU5cUVDWCw",
    "outputId": "06e006e4-54ff-4425-ba3f-7c0212d98431"
   },
   "outputs": [],
   "source": [
    "# загружаем необходимые таблицы\n",
    "# таблица массив для тестирования accounting\n",
    "path_download_ok = path_download + '1dBLApOXHmr_JlD_6N2RXGcVlSLEQjP07'\n",
    "df_ok = pd.read_csv(path_download_ok)\n",
    "df_ok"
   ]
  },
  {
   "cell_type": "code",
   "execution_count": null,
   "metadata": {
    "colab": {
     "base_uri": "https://localhost:8080/",
     "height": 424
    },
    "executionInfo": {
     "elapsed": 3887,
     "status": "ok",
     "timestamp": 1752297878770,
     "user": {
      "displayName": "Rodion",
      "userId": "09749979587702946372"
     },
     "user_tz": -420
    },
    "id": "n2GAJX6oU0eR",
    "outputId": "f30d3aee-1fbe-41e6-9b01-90407e7de5c8"
   },
   "outputs": [],
   "source": [
    "# таблица массив для тестирования ask\n",
    "path_download_ask = path_download + '1dIwEUvlxJ6EEuw8z8SjhYGQh5MDBCeJZ'\n",
    "df_ask = pd.read_csv(path_download_ask)\n",
    "df_ask"
   ]
  },
  {
   "cell_type": "code",
   "execution_count": null,
   "metadata": {
    "colab": {
     "base_uri": "https://localhost:8080/",
     "height": 424
    },
    "executionInfo": {
     "elapsed": 19159,
     "status": "ok",
     "timestamp": 1752297897932,
     "user": {
      "displayName": "Rodion",
      "userId": "09749979587702946372"
     },
     "user_tz": -420
    },
    "id": "Z50Qqp9XBSQ-",
    "outputId": "b8752a32-282e-4445-e30f-26725eeceee1"
   },
   "outputs": [],
   "source": [
    "# таблица массив для тестирования analyze\n",
    "path_download_analyze = path_download + '13deuMBOzcP1y0EkOPVhv6SG3crd-y9_E'\n",
    "df_analyze = pd.read_csv(path_download_analyze)\n",
    "df_analyze"
   ]
  },
  {
   "cell_type": "code",
   "execution_count": null,
   "metadata": {
    "colab": {
     "base_uri": "https://localhost:8080/",
     "height": 1000
    },
    "executionInfo": {
     "elapsed": 39723,
     "status": "ok",
     "timestamp": 1752297937661,
     "user": {
      "displayName": "Rodion",
      "userId": "09749979587702946372"
     },
     "user_tz": -420
    },
    "id": "5VyE3qPyXNFC",
    "outputId": "5b02ee52-f7eb-4c33-ea02-95176e546f11"
   },
   "outputs": [],
   "source": [
    "# таблица для analyze\n",
    "path_download_sheet = path_download + '1188mxc6_X-NOfGeDqlhbgqUk-O3U_tKn'\n",
    "df_sheet = pd.read_csv(path_download_sheet)\n",
    "df_sheet"
   ]
  },
  {
   "cell_type": "code",
   "execution_count": null,
   "metadata": {
    "colab": {
     "base_uri": "https://localhost:8080/",
     "height": 89
    },
    "executionInfo": {
     "elapsed": 1522,
     "status": "ok",
     "timestamp": 1752297939187,
     "user": {
      "displayName": "Rodion",
      "userId": "09749979587702946372"
     },
     "user_tz": -420
    },
    "id": "-6svdABFXAXY",
    "outputId": "4d1b2ac1-a9d7-45c6-9bfb-5efa37e0035a"
   },
   "outputs": [],
   "source": [
    "# таблица для заполнения и итогового тестирование\n",
    "path_download_total = path_download + '1sUaJDIGhrJSGFSlgerPwwBn9vY6lLSNd'\n",
    "df_total = pd.read_csv(path_download_total)\n",
    "df_total"
   ]
  },
  {
   "cell_type": "code",
   "execution_count": null,
   "metadata": {
    "executionInfo": {
     "elapsed": 5,
     "status": "ok",
     "timestamp": 1752297939195,
     "user": {
      "displayName": "Rodion",
      "userId": "09749979587702946372"
     },
     "user_tz": -420
    },
    "id": "xa2gpwlaf-Ao"
   },
   "outputs": [],
   "source": [
    "# функция для заполнения таблицы полученными значениями нейро-сотрудником\n",
    "def note_to_sheet(lst, note, df):\n",
    "    # индексы для ввода данных\n",
    "    index_row = len(df)\n",
    "\n",
    "    # записываем значения в таблицу\n",
    "    df.loc[index_row] = {\n",
    "        'note':note,\n",
    "        'date of oper':lst[0],\n",
    "        'sum':lst[1],\n",
    "        'account':lst[2],\n",
    "        'counterparty':lst[3],\n",
    "        'category':lst[4]\n",
    "    }\n",
    "\n",
    "    # сохранение значении в документ\n",
    "    df.to_csv('test.csv', index=False)"
   ]
  },
  {
   "cell_type": "markdown",
   "metadata": {
    "id": "CDk7R8bR4TPp"
   },
   "source": [
    "# агенты"
   ]
  },
  {
   "cell_type": "markdown",
   "metadata": {
    "id": "tq7DzXr5IjKC"
   },
   "source": [
    "## accounting"
   ]
  },
  {
   "cell_type": "code",
   "execution_count": null,
   "metadata": {
    "executionInfo": {
     "elapsed": 2,
     "status": "ok",
     "timestamp": 1752297939200,
     "user": {
      "displayName": "Rodion",
      "userId": "09749979587702946372"
     },
     "user_tz": -420
    },
    "id": "_LxCS46NT0OZ"
   },
   "outputs": [],
   "source": [
    "# прописываем роль модели для заполнения таблицы, версию и температуру\n",
    "system_for_accounting = '''\n",
    "Ты — великолепный сотрудник финансового отдела торговой компании.\n",
    "У тебя отлично получается извлекать и классифицировать важные сущности из кратких\n",
    "сообщений о движении денежных средств. \\n\\n\n",
    "\n",
    "Пожалуйста, извлеки только 5 важных сущности из сообщения.\n",
    "Ознакомся с кратим содержанием, чтобы быть в контексте.\n",
    "Используй предоставленную документацию для определения статьи.\n",
    "Строго придерживайся формата данных - список:\n",
    "[дата, сумма, счёт, контрагент, статья] \\n\\n\n",
    "\n",
    "Ты знаешь что:\n",
    "1. Денежные потоки от операционной деятельности\n",
    "1.1. Продажи через торговые точки\n",
    "Описание: Выручка от продажи товаров через физические магазины и киоски. \n",
    "Мы продаем и реализуем товары физическим лицам или покупателям, которые приходят \n",
    "в наши торговый точки.\n",
    "\n",
    "1.2. Продажи через вендинговые автоматы\n",
    "Описание: Выручка от автоматизированных систем продаж (вендинговых аппаратов). \n",
    "Физические лица или покупатели пользуются нашими автоматами по продажам.\n",
    "\n",
    "1.3. Возвраты от поставщиков\n",
    "Описание: Суммы, полученные от поставщиков за возвращенный товар. Полученные суммы \n",
    "от наших поставщиков за некачественный товар. \n",
    "\n",
    "1.4. Закупка товара\n",
    "Описание: Оплата товаров для перепродажи. Покупка товаров у наших партнеров и \n",
    "поставщиков для торговли через торговые точки или автоматы.\n",
    "\n",
    "1.5. Транспортные услуги\n",
    "Описание: Расходы на доставку товаров и документов. Все уплаты связанные с \n",
    "логистикой товаров от наших партнеров и поставщиков. \n",
    "\n",
    "1.6. Комиссии за эквайринг\n",
    "Описание: Проценты, удерживаемые банками за прием безналичных платежей от физлиц. \n",
    "\n",
    "1.7. Расчётно-кассовое обслуживание (РКО)\n",
    "Описание: Расходы на обслуживание расчетного счета компании.\n",
    "\n",
    "1.8. Налоги (ЕНВД, УСН 6%)\n",
    "Описание: Обязательные платежи в бюджет государства.\n",
    "\n",
    "1.9. Зарплаты и налоги (ФОТ) производственного персонала\n",
    "Описание: Расходы на оплату труда и связанные с этим обязательства для \n",
    "производственного, рабочего персонала. Налоги при выплате зарплат.\n",
    "\n",
    "1.10. Зарплаты и налоги (ФОТ) коммерческого персонала\n",
    "Описание: Расходы на оплату труда и связанные с этим обязательства для коммерческого \n",
    "персонала. Налоги при выплате зарплат.\n",
    "\n",
    "1.11. Зарплаты и налоги (ФОТ) административного персонала\n",
    "Описание: Расходы на оплату труда и связанные с этим обязательства для \n",
    "административного персонала. Налоги при выплате зарплат.\n",
    "\n",
    "1.12. Обучение персонала\n",
    "Описание: Инвестиции в профессиональное развитие сотрудников.\n",
    "\n",
    "1.13. Расходы на персонал\n",
    "Описание: Социальные и мотивационные затраты на сотрудников. Корпоративы и годовщины \n",
    "компании. \n",
    "\n",
    "1.14. Командировочные расходы\n",
    "Описание: Расходы, связанные с деловыми поездками сотрудников.\n",
    "\n",
    "1.15. Представительские расходы\n",
    "Описание: Расходы на поддержание деловых отношений.\n",
    "\n",
    "1.16. Поиск и найм персонала\n",
    "Описание: Расходы на привлечение новых сотрудников.\n",
    "\n",
    "1.17. Реклама и маркетинг\n",
    "Описание: Расходы на продвижение бизнеса.\n",
    "\n",
    "1.18. Содержание торговых точек и офиса\n",
    "Описание: Расходы на поддержание рабочих помещений.\n",
    "\n",
    "1.19. Аренда\n",
    "Описание: Платежи за использование недвижимости.\n",
    "\n",
    "1.20. Покупка наличности\n",
    "Описание: Комиссии за снятие наличных денег в банкоматах или банках для нужд компании. \n",
    "\n",
    "1.21. Прочие операционные расходы\n",
    "Описание: Все мелкие расходы, не вошедшие в другие статьи. Эта статья выбирается если \n",
    "остальные не подходят.\n",
    "\n",
    "2. Денежные потоки от инвестиционной деятельности\n",
    "2.1. Покупка основных средств (ОС)\n",
    "Описание: Приобретение дорогостоящего имущества для ведение бизнеса с долгой амортизацией.\n",
    "\n",
    "2.2. Ремонт основных средств\n",
    "Описание: Капитальный ремонт, увеличивающий срок службы дорогостоящего имущества.\n",
    "\n",
    "2.3. Продажа основных средств\n",
    "Описание: Доходы от реализации дорогостоящего имущества.\n",
    "\n",
    "2.4. Выдача кредитов и займов\n",
    "Описание: Деньги которые мы предоставили третьим лицам - сотрудникам, поставщикам, \n",
    "партнерам.\n",
    "\n",
    "2.5. Возврат кредитов и займов\n",
    "Описание: Поступления от погашения долгов. Деньги которые нам вернули третьи лица - \n",
    "сотрудники, сотрудницы, поставщики, партнеры.\n",
    "\n",
    "3. Денежные потоки от финансовой деятельности\n",
    "3.1. Получение кредитов и займов\n",
    "Описание: Привлеченные заемные средства. Деньги которые предоставили и предоставляют \n",
    "нам банки, поставщики, партнеры.\n",
    "\n",
    "3.2. Оплаты по кредитам и займам\n",
    "Описание: Погашение долговых обязательств. Деньги которые мы вернули и возвращаем \n",
    "банкам, поставщикам, партнерам.\n",
    "\n",
    "3.3. Вклады от собственников\n",
    "Описание: Деньги, вложенные учредителями в бизнес. \n",
    "\n",
    "3.4. Дивиденды\n",
    "Описание: Выплаты собственникам. \n",
    "\n",
    "3.5. Прочие поступления от финансовых операций\n",
    "Описание: Доходы от финансовых активов. Проценты или дивиденды полученные от вложения \n",
    "в другие компании.\n",
    "\n",
    "Технические операции\n",
    "4.1. Перевод между счетами\n",
    "Описание: Перевод денег на другой наш счет или кошелёк.\n",
    " \\n\\n\n",
    "'''\n",
    "\n",
    "model_for_accounting = 'gpt-4o-mini-2024-07-18'\n",
    "\n",
    "temperature_for_accounting = 0.1"
   ]
  },
  {
   "cell_type": "code",
   "execution_count": null,
   "metadata": {
    "executionInfo": {
     "elapsed": 4,
     "status": "ok",
     "timestamp": 1752297939208,
     "user": {
      "displayName": "Rodion",
      "userId": "09749979587702946372"
     },
     "user_tz": -420
    },
    "id": "rQKct8jn4Xwz"
   },
   "outputs": [],
   "source": [
    "# функция для извлечения важных сущностей из сообщении и заполнения таблицы\n",
    "def accounting(system, model, temperature, db, note, df, verbose=1):\n",
    "\n",
    "    docs = db.max_marginal_relevance_search(note, k=3, fetch_k=12, lambda_mult=0.5)\n",
    "    message_content = re.sub(r'\\n{2}', ' ', '\\n '.join(\n",
    "        [f'\\n===========Document №{i+1}\\n' + doc.page_content + '\\n' for i, doc in enumerate(docs)]\n",
    "    ))\n",
    "\n",
    "    # if verbose:\n",
    "    #     print(f' chunks: {message_content}')\n",
    "\n",
    "    user_for_accounting = f'''\n",
    "Давай действовать последовательно:\n",
    "\n",
    "Шаг 1: Извлекай дату операции из сообщения. Если дата указана — добавляй её в\n",
    "список в формате ДД.ММ.ГГГГ. Если дата в сообщении отсутствует — ставь «-».\n",
    "\n",
    "Шаг 2: Извлекай сумму средств из сообщения. Если сумма указана — добавляй её в\n",
    "список в виде положительного числа. Если сумма в сообщении отсутствует — ставь\n",
    "«-».\n",
    "\n",
    "Шаг 3: Извлекай счёт из сообщения. Если счёт указан — вноси в список последние\n",
    "четыре цифры счёта. Если счёт в сообщении отсутствует — ставь «-».\n",
    "\n",
    "Шаг 4: Извлекай только имя организации или название организации  контрагента.\n",
    "Если имя организации или название организации контрагента указано в сообщении —\n",
    "вноси его в список без ковычек. Если имя контрагента или название организации\n",
    "контрагента отсутствует — ставь «-».\n",
    "\n",
    "Шаг 5: Определи финансовую статью на основании предоставленной тебе документации.\n",
    "Статьи находятся во втором уровне документов. Если удаётся определить статью —\n",
    "точно внеси её полное название(оно стоит после цифр) точно так, как указано в\n",
    "документации. Не добавляй ничего кроме названия статьи. Если определить статью\n",
    "невозможно — ставь «-».\n",
    "\n",
    "Шаг 6. Выведи полученный список из 5 сущностей(элементов списка). \\n\\n\n",
    "\n",
    "Сообщение: {note} \\n\\n {message_content} \\n\\n\n",
    "Ответ:\n",
    "'''\n",
    "\n",
    "    assistant = \"['25.08.2025', 52000, 3123, 'Мельница','Продажи через торговые точки']\"\n",
    "\n",
    "    messages = [\n",
    "        {'role':'system','content':system},\n",
    "        {'role':'user','content':user_for_accounting},\n",
    "        {'role':'assistant', 'content':assistant}\n",
    "        ]\n",
    "\n",
    "    completion = client.chat.completions.create(\n",
    "        model = model,\n",
    "        messages = messages,\n",
    "        temperature = temperature\n",
    "    )\n",
    "\n",
    "    answer = completion.choices[0].message.content\n",
    "\n",
    "    if verbose:\n",
    "        print('\\n accounting: \\n', answer)\n",
    "\n",
    "    # обработчик ошибок\n",
    "    try:\n",
    "        result = ast.literal_eval(answer)\n",
    "        if not isinstance(result, list):\n",
    "            result = ['Error - it is not list']\n",
    "    except:\n",
    "        result = ['Error - accounting can not convert']\n",
    "\n",
    "    # значения флага по умолчанию\n",
    "    was_written_to_sheet = False\n",
    "\n",
    "    # условие по определению полноты данных, если все данные получены происходит\n",
    "    # запись данных в таблицу\n",
    "    if result.count('-') == 0:\n",
    "        #\n",
    "        note_to_sheet(result, note, df)\n",
    "        #\n",
    "        was_written_to_sheet = True\n",
    "\n",
    "    return result, was_written_to_sheet"
   ]
  },
  {
   "cell_type": "markdown",
   "metadata": {
    "id": "nGf2Ee-PInO6"
   },
   "source": [
    "## ask"
   ]
  },
  {
   "cell_type": "code",
   "execution_count": null,
   "metadata": {
    "executionInfo": {
     "elapsed": 3,
     "status": "ok",
     "timestamp": 1752297939214,
     "user": {
      "displayName": "Rodion",
      "userId": "09749979587702946372"
     },
     "user_tz": -420
    },
    "id": "JXDRpd2ib_BG"
   },
   "outputs": [],
   "source": [
    "# определяем роль для модели уточнения, версию и температуру\n",
    "system_for_ask = '''\n",
    "Ты прекрасный сотрудник в финансовом отделе торговой компании. У тебя прекрасно\n",
    "получается определять нужно ли задавать уточняющие вопросы, а так же ты умеешь\n",
    "их задавать. \\n\\n\n",
    "\n",
    "Твоя основная задача - проследить чтобы все поля в таблице были заполнены. Тебе\n",
    "будет предоставлятся список сущностей: [дата, сумма, счет, контрагент, описание].\n",
    "Ознакомся с ним и там где «-», где отсутсутсвуют данные, задай вопросы для\n",
    "уточнения. \\n\\n\n",
    "\n",
    "Пожалуйста, не сообщай, что заполняешь список.\n",
    "'''\n",
    "\n",
    "model_for_ask = 'gpt-4o-mini-2024-07-18'\n",
    "\n",
    "temperature_for_ask = 0.1"
   ]
  },
  {
   "cell_type": "code",
   "execution_count": null,
   "metadata": {
    "executionInfo": {
     "elapsed": 6,
     "status": "ok",
     "timestamp": 1752297939220,
     "user": {
      "displayName": "Rodion",
      "userId": "09749979587702946372"
     },
     "user_tz": -420
    },
    "id": "ofPRj4EcSrD7"
   },
   "outputs": [],
   "source": [
    "# функция для уточнения недостоющих данных\n",
    "def ask(system, model, temperature, note, verbose=1):\n",
    "\n",
    "    user_for_ask = f'''\n",
    "Пожалуйста, ознакомся со списком {note}. \\n\\n\n",
    "\n",
    "Давай действовать последовательно: \\n\n",
    "Шаг 1: Есть ли в списке «-», иначе сразу закончи диалог.\n",
    "Шаг 2: Определяем недостающие сущности. \\n\n",
    "Шаг 3: Формируем вопросы для уточнения. \\n\n",
    "Шаг 4: Выводим только лишь вопрос(-ы) для уточнения. \\n\\n\n",
    "\n",
    "Пожалуйста, если требуется задай все вопрос(-ы) в одном сообщении.\n",
    "Ответ:\n",
    "'''\n",
    "\n",
    "    messages = [\n",
    "        {'role':'system', 'content':system},\n",
    "        {'role':'user', 'content':user_for_ask}\n",
    "    ]\n",
    "\n",
    "\n",
    "\n",
    "    completion = client.chat.completions.create(\n",
    "        model = model,\n",
    "        messages = messages,\n",
    "        temperature = temperature\n",
    "    )\n",
    "\n",
    "    answer = completion.choices[0].message.content\n",
    "\n",
    "    if verbose:\n",
    "        print('\\n ask: \\n', answer)\n",
    "\n",
    "    return answer"
   ]
  },
  {
   "cell_type": "markdown",
   "metadata": {
    "id": "xruYatXRkN5l"
   },
   "source": [
    "### assistant для тест ask"
   ]
  },
  {
   "cell_type": "code",
   "execution_count": null,
   "metadata": {
    "executionInfo": {
     "elapsed": 3,
     "status": "ok",
     "timestamp": 1752297939227,
     "user": {
      "displayName": "Rodion",
      "userId": "09749979587702946372"
     },
     "user_tz": -420
    },
    "id": "ct9e0nPDYpI6"
   },
   "outputs": [],
   "source": [
    "#\n",
    "system_for_assistant = '''\n",
    "Ты прекрасный помошник для тестирования. Твоя основная придумывать ответы на\n",
    "вопросы которые к тебе приходят. \\n\\n\n",
    "\n",
    "Пожалуйста, будь краткой и отвечай только по сути вопроса(-ов).\n",
    "Не приветствуй и не проси задавать дополнительных вопросов.\n",
    "\n",
    "'''\n",
    "\n",
    "\n",
    "model_for_assistant = 'gpt-4o-mini-2024-07-18'\n",
    "\n",
    "temperature_for_assistant = 0.1"
   ]
  },
  {
   "cell_type": "code",
   "execution_count": null,
   "metadata": {
    "executionInfo": {
     "elapsed": 2,
     "status": "ok",
     "timestamp": 1752297939231,
     "user": {
      "displayName": "Rodion",
      "userId": "09749979587702946372"
     },
     "user_tz": -420
    },
    "id": "rF7ibZP4YCNj"
   },
   "outputs": [],
   "source": [
    "#\n",
    "def assistant(system, model, temperature, questions, summary, verbose=0):\n",
    "\n",
    "    user_for_assistant = f'''\n",
    "Пожалуйста, давай действовать последовательно:\n",
    "Шаг 1. Ознакомся с контекстом диалога: {summary}\n",
    "Шаг 2. Ознакомся с вопросами: {questions}\n",
    "Шаг 2. Если тебя просят уточнить дату, то придумай любую дату в 2025 году, день \n",
    "и месяц произвольные. Если не просят уточнить дату, то пропускаешь ответ.\n",
    "Шаг 3. Если тебя просят уточнить сумму, то придумай любую сумму. Если не просят \n",
    "уточнить сумму, то пропускаешь ответ.\n",
    "Шаг 4. Если тебя просят уточнить счет, то назови счет *3452. Если не просят \n",
    "уточнить счет, то пропускаешь ответ.\n",
    "Шаг 5. Если тебя просят уточнить контрагента, то придумай любую компанию. Если \n",
    "не просят уточнить контрагента, то пропускаешь ответ.\n",
    "Шаг 6. Если тебя просят дать описание, то придумай любое описание операции. \n",
    "Если тебя не просят дать описание, то пропускаешь ответ.\n",
    "Шаг 7. Выведи ответы из предыдущих шагов. \\n\\n\n",
    "\n",
    "Ответы:\n",
    "'''\n",
    "\n",
    "    messages = [\n",
    "        {'role':'system', 'content':system},\n",
    "        {'role':'user', 'content':user_for_assistant}\n",
    "    ]\n",
    "\n",
    "    completions = client.chat.completions.create(\n",
    "        model = model,\n",
    "        messages = messages,\n",
    "        temperature = temperature\n",
    "    )\n",
    "\n",
    "    answer = completions.choices[0].message.content\n",
    "\n",
    "    if verbose:\n",
    "        print('\\n assistant: \\n', answer)\n",
    "\n",
    "    return answer"
   ]
  },
  {
   "cell_type": "markdown",
   "metadata": {
    "id": "qOztApYhItzx"
   },
   "source": [
    "## memory"
   ]
  },
  {
   "cell_type": "code",
   "execution_count": null,
   "metadata": {
    "executionInfo": {
     "elapsed": 3,
     "status": "ok",
     "timestamp": 1752297939236,
     "user": {
      "displayName": "Rodion",
      "userId": "09749979587702946372"
     },
     "user_tz": -420
    },
    "id": "Yqfho9I-bKMZ"
   },
   "outputs": [],
   "source": [
    "# определяем роль модели, версию и температуру\n",
    "system_for_memory = '''\n",
    "Ты замечательный саммаризатор, у тебя отлично получается излагать краткое\n",
    "содержание текстов. Тебе необходимо саммаризировать текста для подачи в\n",
    "информации в другие модели ChatGPT. \\n\\n\n",
    "'''\n",
    "\n",
    "model_for_memory = 'gpt-4o-mini-2024-07-18'\n",
    "\n",
    "temperature_for_memory = 0"
   ]
  },
  {
   "cell_type": "code",
   "execution_count": null,
   "metadata": {
    "executionInfo": {
     "elapsed": 2,
     "status": "ok",
     "timestamp": 1752297939241,
     "user": {
      "displayName": "Rodion",
      "userId": "09749979587702946372"
     },
     "user_tz": -420
    },
    "id": "PLmUJYkSJF3U"
   },
   "outputs": [],
   "source": [
    "# функция для сохранения контекста диалога\n",
    "def memory(system, model, temperature, text, verbose=1):\n",
    "\n",
    "    user_for_memory = f'''\n",
    "Пожалуйста, саммаризируй текст: {text}\n",
    "'''\n",
    "\n",
    "    messages = [\n",
    "        {'role':'system', 'content':system},\n",
    "        {'role':'user', 'content':user_for_memory}\n",
    "    ]\n",
    "\n",
    "\n",
    "\n",
    "    completion = client.chat.completions.create(\n",
    "        model = model,\n",
    "        messages = messages,\n",
    "        temperature = temperature\n",
    "    )\n",
    "\n",
    "    answer = completion.choices[0].message.content\n",
    "\n",
    "    if verbose:\n",
    "        print('\\n memory: \\n', answer)\n",
    "\n",
    "    return answer"
   ]
  },
  {
   "cell_type": "markdown",
   "metadata": {
    "id": "aP4KwdlbIwUC"
   },
   "source": [
    "## analyze"
   ]
  },
  {
   "cell_type": "code",
   "execution_count": null,
   "metadata": {
    "executionInfo": {
     "elapsed": 3,
     "status": "ok",
     "timestamp": 1752297939248,
     "user": {
      "displayName": "Rodion",
      "userId": "09749979587702946372"
     },
     "user_tz": -420
    },
    "id": "QhlsWiDE5kx6"
   },
   "outputs": [],
   "source": [
    "# прописываем роль, версию, температура модели\n",
    "system_for_analyze = '''\n",
    "Тебя зовут Астрид. Ты великолепный финансист в торговой компании, у тебя\n",
    "изумительно получается анализировать отчеты. Пожалуйста, будь внимательным\n",
    "и точным в цифрах.\n",
    "\n",
    "Тебе предоставлен отчет компании и тебе нужно сформулировать аналитическую записку\n",
    "для руководства компании. \\n\\n\n",
    "\n",
    "Ты знаешь что отчеты могут быть: \\n\n",
    " - ОДДС или Отчет о движении денежных средств \\n\n",
    " - ББ или Бухгалтерский баланс \\n\n",
    " - ОПиУ или Отчет о прибыли и убытках.\n",
    "'''\n",
    "\n",
    "model_for_analyze = 'gpt-4o-mini-2024-07-18'\n",
    "\n",
    "temperature_for_analyze = 0"
   ]
  },
  {
   "cell_type": "code",
   "execution_count": null,
   "metadata": {
    "executionInfo": {
     "elapsed": 7,
     "status": "ok",
     "timestamp": 1752297939257,
     "user": {
      "displayName": "Rodion",
      "userId": "09749979587702946372"
     },
     "user_tz": -420
    },
    "id": "cIJqPnRtZWAu"
   },
   "outputs": [],
   "source": [
    "# функция для анализа отчетности\n",
    "def analyze(system, model, temperature, sheet, verbose=1):\n",
    "\n",
    "    user_for_analyze = f'''\n",
    "Пожалуйста, давай действовать последовательно: \\n\n",
    "Шаг 1: Определи вид предоставленного отчета. \\n\n",
    "Шаг 2: Проанализируй отчет учитывая данные из Шаг 1. \\n\n",
    "Шаг 3: Напиши аналитическую записку для руководства. \\n\\n\n",
    "\n",
    "Отвечай, пожалуйста, точно, и ничего не придумывай от себя.\\n\\n\n",
    "\n",
    "Предоставленный тебе отчет: {sheet}\n",
    "'''\n",
    "\n",
    "    messages = [\n",
    "        {'role':'system', 'content':system},\n",
    "        {'role':'user', 'content':user_for_analyze}\n",
    "    ]\n",
    "\n",
    "    completion = client.chat.completions.create(\n",
    "        model = model,\n",
    "        messages = messages,\n",
    "        temperature = temperature\n",
    "    )\n",
    "\n",
    "    answer = completion.choices[0].message.content\n",
    "\n",
    "    if verbose:\n",
    "        print('\\n analyze: \\n', answer)\n",
    "\n",
    "    return answer"
   ]
  },
  {
   "cell_type": "markdown",
   "metadata": {
    "id": "I_wvR8hoIr7o"
   },
   "source": [
    "## router"
   ]
  },
  {
   "cell_type": "code",
   "execution_count": null,
   "metadata": {
    "executionInfo": {
     "elapsed": 2,
     "status": "ok",
     "timestamp": 1752297939261,
     "user": {
      "displayName": "Rodion",
      "userId": "09749979587702946372"
     },
     "user_tz": -420
    },
    "id": "mcILKF9wYXV3"
   },
   "outputs": [],
   "source": [
    "# определяем роль, версию и температуру модели для аналитики\n",
    "system_for_router = '''\n",
    "Ты — умный маршрутизатор, который определяет, к какой модели нужно обратиться\n",
    "для корректного ответа. Ты работаешь вместе с нейро-финансистом, задача\n",
    "которого — вести журнал операций и готовить аналитические записки. \\n\\n\n",
    "\n",
    "Ты выбираешь одну из трех моделей: 'accounting', 'analyze', 'error'.\n",
    "\\n\\n\n",
    "\n",
    "Выбирай модель по следующим правилам:\n",
    "\n",
    "- Если сообщение — это ответ (описание операции) → выбери 'accounting'.\n",
    "- Если сообщение — это аналитический запрос → выбери 'analyze'.\n",
    "\n",
    "Важно: твой ответ должен быть **только одной строкой**, содержащей имя модели.\n",
    "'''\n",
    "\n",
    "\n",
    "model_for_router = 'gpt-4o-mini-2024-07-18'\n",
    "# model_for_router = 'gpt-4.1-mini-2025-04-14'\n",
    "\n",
    "temperature_for_router = 0"
   ]
  },
  {
   "cell_type": "code",
   "execution_count": null,
   "metadata": {
    "executionInfo": {
     "elapsed": 3,
     "status": "ok",
     "timestamp": 1752297939266,
     "user": {
      "displayName": "Rodion",
      "userId": "09749979587702946372"
     },
     "user_tz": -420
    },
    "id": "iiVI6kAWI_4Q"
   },
   "outputs": [],
   "source": [
    "# функция маршрутизатор\n",
    "def router(system, model, temperature, note, summary, verbose=1):\n",
    "\n",
    "    user_for_router = f'''\n",
    "Пожалуйста, давай действовать последовательно: \\n\n",
    "Шаг 1: Ознакомся с контекстом диалога. \\n\n",
    "Шаг 2: Проанализируй сообщение сотрудника. \\n\n",
    "Шаг 3: Определи тип сообщения: запрос, ответ, полный список,\n",
    "неполный список. \\n\n",
    "Шаг 4: На основе Шаг 1 и Шаг 3 напиши одну модель для ответа сотрудникам. \\n\\n\n",
    "\n",
    "Сообщение клиента: {note} \\n\\n\n",
    "Контекст диалога: {summary} \\n\\n\n",
    "Ответ:\n",
    "'''\n",
    "\n",
    "    messages = [\n",
    "        {'role':'system', 'content':system},\n",
    "        {'role':'user', 'content':user_for_router}\n",
    "    ]\n",
    "\n",
    "    completion = client.chat.completions.create(\n",
    "        model = model,\n",
    "        messages = messages,\n",
    "        temperature = temperature\n",
    "    )\n",
    "\n",
    "    answer = completion.choices[0].message.content\n",
    "\n",
    "    if verbose:\n",
    "        print('\\n router: \\n', answer)\n",
    "\n",
    "    return answer"
   ]
  },
  {
   "cell_type": "markdown",
   "metadata": {
    "id": "b4AdjSdmKPse"
   },
   "source": [
    "# нейро-сотрудник"
   ]
  },
  {
   "cell_type": "code",
   "execution_count": null,
   "metadata": {
    "executionInfo": {
     "elapsed": 19,
     "status": "ok",
     "timestamp": 1752298908437,
     "user": {
      "displayName": "Rodion",
      "userId": "09749979587702946372"
     },
     "user_tz": -420
    },
    "id": "d5abP6hqKRA-"
   },
   "outputs": [],
   "source": [
    "# готовый нейро-сотрудник после объединения всех агентов и функции\n",
    "def run_dialog(text, total_summary=''):\n",
    "    # выводим полученное сообщение\n",
    "    print('request: ', text)\n",
    "\n",
    "    if text == 'stop':\n",
    "        out_answer = '\\n end'\n",
    "        return print(out_answer)\n",
    "    else:\n",
    "        note = text\n",
    "        total_summary += 'Сотрудник: '\n",
    "        total_summary += note\n",
    "\n",
    "        # задействуем маршрутизатор\n",
    "        output = router(system_for_router, model_for_router, temperature_for_router,\n",
    "                        text, total_summary)\n",
    "\n",
    "        # условие по задействованию агентов\n",
    "        if 'accounting' in output:\n",
    "\n",
    "            out_answer, was_written = accounting(system_for_accounting,\n",
    "                                                    model_for_accounting,\n",
    "                                                    temperature_for_accounting,\n",
    "                                                    db, total_summary, df_total)\n",
    "\n",
    "            # проверка значения флага очистки контекста после получения всех данных\n",
    "            if was_written == True:\n",
    "                total_summary = ''\n",
    "                out_answer = 'stop'\n",
    "            else:\n",
    "                questions = ask(system_for_ask, model_for_ask, temperature_for_ask,\n",
    "                                out_answer)\n",
    "                # вызов ассистента для уточнения информации и отправка ответа в роутер\n",
    "                out_answer = assistant(system_for_assistant, model_for_assistant,\n",
    "                                        temperature_for_assistant, questions, total_summary)\n",
    "                summary = out_answer\n",
    "                total_summary += 'Сотрудник: '\n",
    "                total_summary += summary\n",
    "\n",
    "                return run_dialog(out_answer, total_summary)\n",
    "\n",
    "        elif 'analyze' in output:\n",
    "\n",
    "            out_answer = analyze(system_for_analyze, model_for_analyze,\n",
    "                                    temperature_for_analyze, text)\n",
    "\n",
    "            # вывод ответа агента - аналитика\n",
    "            return out_answer\n",
    "        \n",
    "        elif 'error' in output:\n",
    "            \n",
    "            out_answer = 'what?'\n",
    "            return out_answer\n",
    "\n",
    "        else:\n",
    "            return print('Error router')"
   ]
  },
  {
   "cell_type": "markdown",
   "metadata": {
    "id": "70XEBfNhJEPM"
   },
   "source": [
    "# тесты"
   ]
  },
  {
   "cell_type": "markdown",
   "metadata": {
    "id": "1DajT5K-4YGc"
   },
   "source": [
    "## тесты accounting"
   ]
  },
  {
   "cell_type": "code",
   "execution_count": null,
   "metadata": {
    "executionInfo": {
     "elapsed": 2,
     "status": "ok",
     "timestamp": 1752297939278,
     "user": {
      "displayName": "Rodion",
      "userId": "09749979587702946372"
     },
     "user_tz": -420
    },
    "id": "5Q3vyLIjGL_M"
   },
   "outputs": [],
   "source": [
    "# функция для тестирования агента на массиве данных\n",
    "def test_accounting(df, df_total):\n",
    "\n",
    "    # перебираем в цикле заметки из массива\n",
    "    for i in range(df.shape[0]):\n",
    "        # извлекаем заметку и отправляем в агент accounting\n",
    "        out = df.loc[i, 'note']\n",
    "        result = run_dialog(out)\n",
    "\n",
    "        print('timeout')\n",
    "        time.sleep(3)\n",
    "\n",
    "    return df_total"
   ]
  },
  {
   "cell_type": "code",
   "execution_count": null,
   "metadata": {
    "colab": {
     "base_uri": "https://localhost:8080/",
     "height": 1000
    },
    "executionInfo": {
     "elapsed": 478160,
     "status": "ok",
     "timestamp": 1752298417438,
     "user": {
      "displayName": "Rodion",
      "userId": "09749979587702946372"
     },
     "user_tz": -420
    },
    "id": "NmkTfXMdTowW",
    "outputId": "3f01eb25-41fb-4efa-ed17-93aa21a051dd"
   },
   "outputs": [],
   "source": [
    "test_accounting(df_ok, df_total)"
   ]
  },
  {
   "cell_type": "code",
   "execution_count": null,
   "metadata": {
    "executionInfo": {
     "elapsed": 24,
     "status": "ok",
     "timestamp": 1752298417441,
     "user": {
      "displayName": "Rodion",
      "userId": "09749979587702946372"
     },
     "user_tz": -420
    },
    "id": "3yLrbTMMcXV6"
   },
   "outputs": [],
   "source": [
    "# сохранение полученных результатов\n",
    "df_total.to_csv('test_accounting.csv', index=False)"
   ]
  },
  {
   "cell_type": "markdown",
   "metadata": {
    "id": "9ZfwNVa3Hql3"
   },
   "source": [
    "## тесты ask"
   ]
  },
  {
   "cell_type": "code",
   "execution_count": null,
   "metadata": {
    "executionInfo": {
     "elapsed": 21,
     "status": "ok",
     "timestamp": 1752298417446,
     "user": {
      "displayName": "Rodion",
      "userId": "09749979587702946372"
     },
     "user_tz": -420
    },
    "id": "HGT6cFp1dm7z"
   },
   "outputs": [],
   "source": [
    "# функция для тестирования ask на основе масива\n",
    "def test_ask(df, df_total):\n",
    "    # цикл для извлечения заметок\n",
    "    for i in range(df.shape[0]):\n",
    "        out = df.loc[i, 'note']\n",
    "        result = run_dialog(out)\n",
    "\n",
    "        print('timeout')\n",
    "        time.sleep(3)\n",
    "\n",
    "    return df_total"
   ]
  },
  {
   "cell_type": "code",
   "execution_count": null,
   "metadata": {
    "colab": {
     "base_uri": "https://localhost:8080/",
     "height": 1000
    },
    "executionInfo": {
     "elapsed": 1051910,
     "status": "ok",
     "timestamp": 1752299963603,
     "user": {
      "displayName": "Rodion",
      "userId": "09749979587702946372"
     },
     "user_tz": -420
    },
    "id": "JjY4NnJBr8Vz",
    "outputId": "aa5f5e15-0a0b-4cd5-b779-e9a47b7cb289"
   },
   "outputs": [],
   "source": [
    "test_ask(df_ask, df_total)"
   ]
  },
  {
   "cell_type": "code",
   "execution_count": null,
   "metadata": {
    "executionInfo": {
     "elapsed": 4,
     "status": "ok",
     "timestamp": 1752300424404,
     "user": {
      "displayName": "Rodion",
      "userId": "09749979587702946372"
     },
     "user_tz": -420
    },
    "id": "qT0avyRVsJZr"
   },
   "outputs": [],
   "source": [
    "df_total.to_csv('test_ask.csv', index=False)"
   ]
  },
  {
   "cell_type": "markdown",
   "metadata": {
    "id": "CSP-yYZVd3q9"
   },
   "source": [
    "## тесты analyze"
   ]
  },
  {
   "cell_type": "code",
   "execution_count": null,
   "metadata": {
    "executionInfo": {
     "elapsed": 580406,
     "status": "aborted",
     "timestamp": 1752298419412,
     "user": {
      "displayName": "Rodion",
      "userId": "09749979587702946372"
     },
     "user_tz": -420
    },
    "id": "wLEasxAQd4Kl"
   },
   "outputs": [],
   "source": [
    "# тестирование агента - analyze\n",
    "analyze(system_for_analyze, model_for_analyze, temperature_for_analyze, df_sheet)"
   ]
  },
  {
   "cell_type": "markdown",
   "metadata": {
    "id": "Bg9T2aA6JhAa"
   },
   "source": [
    "# тест сотрудника"
   ]
  }
 ],
 "metadata": {
  "colab": {
   "authorship_tag": "ABX9TyNkChpChLGRQvuh4WaeZ/8z",
   "provenance": [
    {
     "file_id": "1Phn_C_-R3hkjrhHCU5TZrZGX_3YwE3rh",
     "timestamp": 1752295397795
    },
    {
     "file_id": "1aoiV2zAutPD_0sVWlQwjoaBYuNtIqR2W",
     "timestamp": 1752228857706
    }
   ]
  },
  "kernelspec": {
   "display_name": ".venv",
   "language": "python",
   "name": "python3"
  },
  "language_info": {
   "codemirror_mode": {
    "name": "ipython",
    "version": 3
   },
   "file_extension": ".py",
   "mimetype": "text/x-python",
   "name": "python",
   "nbconvert_exporter": "python",
   "pygments_lexer": "ipython3",
   "version": "3.11.2"
  }
 },
 "nbformat": 4,
 "nbformat_minor": 0
}
